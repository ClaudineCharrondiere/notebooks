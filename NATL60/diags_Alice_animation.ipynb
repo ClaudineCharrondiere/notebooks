{
 "cells": [
  {
   "cell_type": "code",
   "execution_count": 1,
   "metadata": {
    "collapsed": true
   },
   "outputs": [],
   "source": [
    "# import modules\n",
    "import xarray as xr\n",
    "from matplotlib import pyplot as plt\n",
    "import matplotlib.cm as cm\n",
    "import numpy.ma as ma\n",
    "import numpy as np\n",
    "import netCDF4 as nc4\n",
    "from scipy.io import netcdf\n",
    "%matplotlib inline"
   ]
  },
  {
   "cell_type": "code",
   "execution_count": 4,
   "metadata": {
    "collapsed": true
   },
   "outputs": [],
   "source": [
    "fdir = \"/home/albert/Data/NATL60/NATL60-CJM165-S/1di/2012/\"\n",
    "Ffile = fdir + 'NATL60-CJM165_1d_alteLABgridiF_20120813-20120813.nc'\n",
    "Tfile = fdir + 'NATL60-CJM165_1d_alteLABgridiT_20120813-20120813.nc'"
   ]
  },
  {
   "cell_type": "code",
   "execution_count": 11,
   "metadata": {
    "collapsed": false
   },
   "outputs": [],
   "source": [
    "dxu = xr.open_dataset(Tfile)['dxu'][0]\n",
    "dyv = xr.open_dataset(Tfile)['dyv'][0]\n",
    "dyu = xr.open_dataset(Ffile)['dyu'][0]\n",
    "dxv = xr.open_dataset(Ffile)['dxv'][0]\n",
    "\n",
    "dxug = xr.open_dataset(Tfile)['dxug'][0]\n",
    "dyvg = xr.open_dataset(Tfile)['dyvg'][0]\n",
    "dyug = xr.open_dataset(Ffile)['dyug'][0]\n",
    "dxvg = xr.open_dataset(Ffile)['dxvg'][0]\n",
    "\n",
    "navlon = xr.open_dataset(Tfile)['nav_lon']\n",
    "navlat = xr.open_dataset(Tfile)['nav_lat']\n"
   ]
  },
  {
   "cell_type": "code",
   "execution_count": 6,
   "metadata": {
    "collapsed": false
   },
   "outputs": [
    {
     "data": {
      "text/plain": [
       "(258, 384)"
      ]
     },
     "execution_count": 6,
     "metadata": {},
     "output_type": "execute_result"
    }
   ],
   "source": [
    "dxu.shape"
   ]
  },
  {
   "cell_type": "code",
   "execution_count": 21,
   "metadata": {
    "collapsed": false
   },
   "outputs": [],
   "source": [
    "def cartes_dxyuv(zk):\n",
    " plt.figure(figsize=(20,40))\n",
    " plt.subplot(4,2,1)\n",
    " plt.pcolormesh(navlon,navlat,ma.masked_invalid(dxu[zk]),cmap='seismic',vmin=-0.00003,vmax=0.00003)\n",
    " plt.autoscale(tight=True)\n",
    " plt.colorbar(orientation='horizontal',ticks=[-0.00003,-0.00002,-0.00001,0,0.00001,0.00002,0.00003])\n",
    " plt.title('dxu at z='+np.string_(zk)+' in 20120813')\n",
    " plt.subplot(4,2,2)\n",
    " plt.pcolormesh(navlon,navlat,ma.masked_invalid(dxug[zk]),cmap='seismic',vmin=-0.00003,vmax=0.00003)\n",
    " plt.autoscale(tight=True)\n",
    " plt.colorbar(orientation='horizontal',ticks=[-0.00003,-0.00002,-0.00001,0,0.00001,0.00002,0.00003])\n",
    " plt.title('dxug at z='+np.string_(zk)+' in 20120813')\n",
    " plt.subplot(4,2,3)\n",
    " plt.pcolormesh(navlon,navlat,ma.masked_invalid(dyu[zk]),cmap='seismic',vmin=-0.00003,vmax=0.00003)\n",
    " plt.autoscale(tight=True)\n",
    " plt.colorbar(orientation='horizontal',ticks=[-0.00003,-0.00002,-0.00001,0,0.00001,0.00002,0.00003])\n",
    " plt.title('dyu at z='+np.string_(zk)+' in 20120813')\n",
    " plt.subplot(4,2,4)\n",
    " plt.pcolormesh(navlon,navlat,ma.masked_invalid(dyug[zk]),cmap='seismic',vmin=-0.00003,vmax=0.00003)\n",
    " plt.autoscale(tight=True)\n",
    " plt.colorbar(orientation='horizontal',ticks=[-0.00003,-0.00002,-0.00001,0,0.00001,0.00002,0.00003])\n",
    " plt.title('dyug at z='+np.string_(zk)+' in 20120813')\n",
    " plt.subplot(4,2,5)\n",
    " plt.pcolormesh(navlon,navlat,ma.masked_invalid(dxv[zk]),cmap='seismic',vmin=-0.00003,vmax=0.00003)\n",
    " plt.autoscale(tight=True)\n",
    " plt.colorbar(orientation='horizontal',ticks=[-0.00003,-0.00002,-0.00001,0,0.00001,0.00002,0.00003])\n",
    " plt.title('dxv at z='+np.string_(zk)+' in 20120813')\n",
    " plt.subplot(4,2,6)\n",
    " plt.pcolormesh(navlon,navlat,ma.masked_invalid(dxvg[zk]),cmap='seismic',vmin=-0.00003,vmax=0.00003)\n",
    " plt.autoscale(tight=True)\n",
    " plt.colorbar(orientation='horizontal',ticks=[-0.00003,-0.00002,-0.00001,0,0.00001,0.00002,0.00003])\n",
    " plt.title('dxvg at z='+np.string_(zk)+' in 20120813')\n",
    " plt.subplot(4,2,7)\n",
    " plt.pcolormesh(navlon,navlat,ma.masked_invalid(dyv[zk]),cmap='seismic',vmin=-0.00003,vmax=0.00003)\n",
    " plt.autoscale(tight=True)\n",
    " plt.colorbar(orientation='horizontal',ticks=[-0.00003,-0.00002,-0.00001,0,0.00001,0.00002,0.00003])\n",
    " plt.title('dyv at z='+np.string_(zk)+' in 20120813')\n",
    " plt.subplot(4,2,8)\n",
    " plt.pcolormesh(navlon,navlat,ma.masked_invalid(dyvg[zk]),cmap='seismic',vmin=-0.00003,vmax=0.00003)\n",
    " plt.autoscale(tight=True)\n",
    " plt.colorbar(orientation='horizontal',ticks=[-0.00003,-0.00002,-0.00001,0,0.00001,0.00002,0.00003])\n",
    " plt.title('dyvg at z='+np.string_(zk)+' in 20120813')\n",
    "\n",
    " plt.savefig('/home/albert/Data/NATL60/NATL60-CJM165-PLOTS/cartes_z'+np.string_(zk)+'_dxyuv_dxyugvg_y2012m11d07.png')\n"
   ]
  },
  {
   "cell_type": "code",
   "execution_count": null,
   "metadata": {
    "collapsed": true
   },
   "outputs": [],
   "source": [
    "def init():         \n",
    "   line.set_data([], [])\n",
    "   return line,\n",
    "\n",
    "def animate(i):\n",
    "  t=i/25\n",
    "  line.set_data(x, y(x,t))\n",
    "  print(\"frame num %d\" %i)\n",
    "  return line,\n"
   ]
  },
  {
   "cell_type": "code",
   "execution_count": null,
   "metadata": {
    "collapsed": true
   },
   "outputs": [],
   "source": [
    "anim = animation.FuncAnimation(fig1, animate, frames=26, interval=2, init_func=init)\n",
    "\n",
    "anim.save('representation_temporelle_1D.mp4', fps=25)\t# Sauvegarde du film\n",
    "\n",
    "show()\n"
   ]
  },
  {
   "cell_type": "code",
   "execution_count": null,
   "metadata": {
    "collapsed": true
   },
   "outputs": [],
   "source": []
  },
  {
   "cell_type": "code",
   "execution_count": null,
   "metadata": {
    "collapsed": true
   },
   "outputs": [],
   "source": []
  },
  {
   "cell_type": "code",
   "execution_count": null,
   "metadata": {
    "collapsed": true
   },
   "outputs": [],
   "source": []
  },
  {
   "cell_type": "code",
   "execution_count": null,
   "metadata": {
    "collapsed": true
   },
   "outputs": [],
   "source": []
  },
  {
   "cell_type": "code",
   "execution_count": null,
   "metadata": {
    "collapsed": true
   },
   "outputs": [],
   "source": []
  }
 ],
 "metadata": {
  "kernelspec": {
   "display_name": "Python [Root]",
   "language": "python",
   "name": "Python [Root]"
  },
  "language_info": {
   "codemirror_mode": {
    "name": "ipython",
    "version": 2
   },
   "file_extension": ".py",
   "mimetype": "text/x-python",
   "name": "python",
   "nbconvert_exporter": "python",
   "pygments_lexer": "ipython2",
   "version": "2.7.11"
  }
 },
 "nbformat": 4,
 "nbformat_minor": 0
}
