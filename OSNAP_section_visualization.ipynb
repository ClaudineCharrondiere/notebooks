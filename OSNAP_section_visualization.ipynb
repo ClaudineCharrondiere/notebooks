### general purpose
import iris
import numpy as np
import numpy.ma as ma
iris.FUTURE.netcdf_promote=True
import iris.analysis.cartography
import GriddedData
### palettre
import matplotlib.cm as mplcm
import colormaps as cmaps
import matplotlib.cm as cm
cm.register_cmap(name='viridis', cmap=cmaps.viridis)
#import seaborn as sns
seq_cmap = cmaps.viridis # future default matplotlib
div_cmap = mplcm.seismic
### quick plot
import cartopy.crs as ccrs
%matplotlib inline
import matplotlib.pyplot as plt
import iris.quickplot as qplt

