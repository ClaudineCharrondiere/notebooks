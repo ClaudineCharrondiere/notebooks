{
 "cells": [
  {
   "cell_type": "code",
   "execution_count": 2,
   "metadata": {
    "collapsed": false
   },
   "outputs": [
    {
     "name": "stdout",
     "output_type": "stream",
     "text": [
      "\n"
     ]
    }
   ],
   "source": [
    "import matplotlib\n",
    "import matplotlib.pyplot as plt\n",
    "import matplotlib.dates as mdates\n",
    "\n",
    "import numpy as npy\n",
    "import pylab as py\n",
    "\n",
    "from scipy.io import netcdf\n",
    "import scipy.signal as si\n",
    "\n",
    "from matplotlib.colors import LogNorm\n",
    "from mpl_toolkits.basemap import Basemap\n",
    "\n",
    "from scipy import stats\n",
    "\n",
    "%matplotlib inline"
   ]
  },
  {
   "cell_type": "code",
   "execution_count": 3,
   "metadata": {
    "collapsed": false
   },
   "outputs": [
    {
     "name": "stdout",
     "output_type": "stream",
     "text": [
      "['', '/home/albert/anaconda2/lib/python2.7/site-packages/oocgcm-0.1.0-py2.7.egg', '/home/albert/anaconda2/lib/python2.7/site-packages/numpy-1.11.1-py2.7-linux-x86_64.egg', '/home/albert/anaconda2/lib/python27.zip', '/home/albert/anaconda2/lib/python2.7', '/home/albert/anaconda2/lib/python2.7/plat-linux2', '/home/albert/anaconda2/lib/python2.7/lib-tk', '/home/albert/anaconda2/lib/python2.7/lib-old', '/home/albert/anaconda2/lib/python2.7/lib-dynload', '/home/albert/anaconda2/lib/python2.7/site-packages/Sphinx-1.4.1-py2.7.egg', '/home/albert/anaconda2/lib/python2.7/site-packages/setuptools-23.0.0-py2.7.egg', '/home/albert/anaconda2/lib/python2.7/site-packages', '/home/albert/anaconda2/lib/python2.7/site-packages/IPython/extensions', '/home/albert/.ipython', '/home/albert/python']\n"
     ]
    }
   ],
   "source": [
    "import sys\n",
    "sys.path.append('/home/albert/python')\n",
    "print(sys.path)"
   ]
  },
  {
   "cell_type": "code",
   "execution_count": 4,
   "metadata": {
    "collapsed": true
   },
   "outputs": [],
   "source": [
    "import PyRaf_colormaps as raf\n",
    "import matplotlib as mpl"
   ]
  },
  {
   "cell_type": "code",
   "execution_count": 5,
   "metadata": {
    "collapsed": true
   },
   "outputs": [],
   "source": [
    "fdir = \"/home/albert/Data/precips/ALL_PRODUCTS/\"\n",
    "\n",
    "nwdfile1 = fdir + 'GPCP_1DD_v1.2_1998-2010.nc'\n",
    "nwdfile2 = fdir + 'precip_TRMM_y1998-2010.nc'\n",
    "nwdfile3 = fdir + 'prate_NCEP-R1_y1998-2010.nc'\n",
    "nwdfile4 = fdir + 'precip_NCEP-R2_y1998-2010.nc'\n",
    "nwdfile5 = fdir + 'precip_MERRA_y1998-2010.nc'\n",
    "nwdfile6 = fdir + 'precip_CFSR_1d_y1998-2010.nc'\n",
    "nwdfile7 = fdir + 'precips_ERAinterim_y1998-2010.nc'\n"
   ]
  },
  {
   "cell_type": "code",
   "execution_count": 6,
   "metadata": {
    "collapsed": false
   },
   "outputs": [],
   "source": [
    "fnwd1 = netcdf.netcdf_file(nwdfile1,'r')\n",
    "fnwd2 = netcdf.netcdf_file(nwdfile2,'r')\n",
    "fnwd3 = netcdf.netcdf_file(nwdfile3,'r')\n",
    "fnwd4 = netcdf.netcdf_file(nwdfile4,'r')\n",
    "fnwd5 = netcdf.netcdf_file(nwdfile5,'r')\n",
    "fnwd6 = netcdf.netcdf_file(nwdfile6,'r')\n",
    "fnwd7 = netcdf.netcdf_file(nwdfile7,'r')\n"
   ]
  },
  {
   "cell_type": "code",
   "execution_count": 7,
   "metadata": {
    "collapsed": true
   },
   "outputs": [],
   "source": [
    "nwd1 = fnwd1.variables['precip']\n",
    "nwd2 = fnwd2.variables['precip']\n",
    "nwd3 = fnwd3.variables['precip']\n",
    "nwd4 = fnwd4.variables['precip']\n",
    "nwd5 = fnwd5.variables['precip']\n",
    "nwd6 = fnwd6.variables['precip']\n",
    "nwd7 = fnwd7.variables['precip']\n"
   ]
  },
  {
   "cell_type": "code",
   "execution_count": 8,
   "metadata": {
    "collapsed": true
   },
   "outputs": [],
   "source": [
    "nwd1a=nwd1[:]\n",
    "nwd2a=nwd2[:]\n",
    "nwd3a=nwd3[:]\n",
    "nwd4a=nwd4[:]\n",
    "nwd5a=nwd5[:]\n",
    "nwd6a=nwd6[:]\n",
    "nwd7a=nwd7[:]\n"
   ]
  },
  {
   "cell_type": "code",
   "execution_count": 9,
   "metadata": {
    "collapsed": false
   },
   "outputs": [
    {
     "data": {
      "text/plain": [
       "(4748, 180, 360)"
      ]
     },
     "execution_count": 9,
     "metadata": {},
     "output_type": "execute_result"
    }
   ],
   "source": [
    "nwd1a.shape"
   ]
  },
  {
   "cell_type": "code",
   "execution_count": 10,
   "metadata": {
    "collapsed": true
   },
   "outputs": [],
   "source": [
    "percent901=stats.scoreatpercentile(nwd1a,90)\n",
    "percent902=stats.scoreatpercentile(nwd2a,90)\n",
    "percent903=stats.scoreatpercentile(nwd3a,90)\n",
    "percent904=stats.scoreatpercentile(nwd4a,90)\n",
    "percent905=stats.scoreatpercentile(nwd5a,90)\n",
    "percent906=stats.scoreatpercentile(nwd6a,90)\n",
    "percent907=stats.scoreatpercentile(nwd7a,90)"
   ]
  },
  {
   "cell_type": "code",
   "execution_count": 12,
   "metadata": {
    "collapsed": false
   },
   "outputs": [
    {
     "name": "stdout",
     "output_type": "stream",
     "text": [
      "90 percentile for GPCP precip is 7.09 mm/day \n",
      "90 percentile for TRMM precip is  7.32 mm/day \n",
      "90 percentile for NCEP-R1 precip is  7.69 mm/day \n",
      "90 percentile for NCEP-R2 precip is  7.47 mm/day \n",
      "90 percentile for MERRA precip is  5.45 mm/day \n",
      "90 percentile for CFSR precip is  7.11 mm/day \n",
      "90 percentile for ERAinterim precip is  7.85 mm/day \n"
     ]
    }
   ],
   "source": [
    "print \"90 percentile for GPCP precip is\",\"%.2f\" % percent901,\"mm/day \"\n",
    "print \"90 percentile for TRMM precip is \",\"%.2f\" % percent902,\"mm/day \"\n",
    "print \"90 percentile for NCEP-R1 precip is \",\"%.2f\" % percent903,\"mm/day \"\n",
    "print \"90 percentile for NCEP-R2 precip is \",\"%.2f\" % percent904,\"mm/day \"\n",
    "print \"90 percentile for MERRA precip is \",\"%.2f\" % percent905,\"mm/day \"\n",
    "print \"90 percentile for CFSR precip is \",\"%.2f\" % percent906,\"mm/day \"\n",
    "print \"90 percentile for ERAinterim precip is \",\"%.2f\" % percent907,\"mm/day \""
   ]
  },
  {
   "cell_type": "code",
   "execution_count": null,
   "metadata": {
    "collapsed": true
   },
   "outputs": [],
   "source": []
  }
 ],
 "metadata": {
  "kernelspec": {
   "display_name": "Python [Root]",
   "language": "python",
   "name": "Python [Root]"
  },
  "language_info": {
   "codemirror_mode": {
    "name": "ipython",
    "version": 2
   },
   "file_extension": ".py",
   "mimetype": "text/x-python",
   "name": "python",
   "nbconvert_exporter": "python",
   "pygments_lexer": "ipython2",
   "version": "2.7.11"
  }
 },
 "nbformat": 4,
 "nbformat_minor": 0
}
