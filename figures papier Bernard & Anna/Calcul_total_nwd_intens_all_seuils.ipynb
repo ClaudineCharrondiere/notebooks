{
 "cells": [
  {
   "cell_type": "code",
   "execution_count": 1,
   "metadata": {
    "collapsed": true
   },
   "outputs": [],
   "source": [
    "import matplotlib\n",
    "import matplotlib.pyplot as plt\n",
    "import matplotlib.dates as mdates\n",
    "\n",
    "import numpy as npy\n",
    "import pylab as py\n",
    "\n",
    "from scipy.io import netcdf\n",
    "import scipy.signal as si\n",
    "from mpl_toolkits.basemap import Basemap\n",
    "\n",
    "from matplotlib.colors import LogNorm\n",
    "%matplotlib inline"
   ]
  },
  {
   "cell_type": "code",
   "execution_count": 2,
   "metadata": {
    "collapsed": false
   },
   "outputs": [
    {
     "name": "stdout",
     "output_type": "stream",
     "text": [
      "['', '/home/albert/anaconda2/lib/python2.7/site-packages/oocgcm-0.1.0-py2.7.egg', '/home/albert/anaconda2/lib/python2.7/site-packages/numpy-1.11.1-py2.7-linux-x86_64.egg', '/home/albert/anaconda2/lib/python27.zip', '/home/albert/anaconda2/lib/python2.7', '/home/albert/anaconda2/lib/python2.7/plat-linux2', '/home/albert/anaconda2/lib/python2.7/lib-tk', '/home/albert/anaconda2/lib/python2.7/lib-old', '/home/albert/anaconda2/lib/python2.7/lib-dynload', '/home/albert/anaconda2/lib/python2.7/site-packages/Sphinx-1.4.1-py2.7.egg', '/home/albert/anaconda2/lib/python2.7/site-packages/setuptools-23.0.0-py2.7.egg', '/home/albert/anaconda2/lib/python2.7/site-packages', '/home/albert/anaconda2/lib/python2.7/site-packages/IPython/extensions', '/home/albert/.ipython', '/home/albert/python']\n"
     ]
    }
   ],
   "source": [
    "import sys\n",
    "sys.path.append('/home/albert/python')\n",
    "print(sys.path)"
   ]
  },
  {
   "cell_type": "code",
   "execution_count": 3,
   "metadata": {
    "collapsed": true
   },
   "outputs": [],
   "source": [
    "import PyRaf_colormaps as raf\n",
    "import matplotlib as mpl\n"
   ]
  },
  {
   "cell_type": "code",
   "execution_count": 8,
   "metadata": {
    "collapsed": true
   },
   "outputs": [],
   "source": [
    "def tot_nwd_intens(seuil):\n",
    "    fdir = \"/home/albert/Data/precips/ALL_SEUILS/\"\n",
    "\n",
    "    nwdfile1 = fdir + 'nwd_GPCP-NCEPR1_interp_seuil' + seuil + '_mask.nc'\n",
    "    nwdfile2 = fdir + 'nwd_TRMM-NCEPR1_interp_seuil' + seuil + '_mask.nc'\n",
    "    nwdfile3 = fdir + 'nwd_NCEP-R1_seuil' + seuil + '_mask.nc'\n",
    "    nwdfile4 = fdir + 'nwd_NCEP-R2_seuil' + seuil + '_mask.nc'\n",
    "    nwdfile5 = fdir + 'nwd_MERRA-NCEPR1_interp_seuil' + seuil + '_mask.nc'\n",
    "    nwdfile6 = fdir + 'nwd_CFSR-NCEPR1_interp_seuil' + seuil + '_mask.nc'\n",
    "    nwdfile7 = fdir + 'nwd_ERAinterim-NCEPR1_interp_seuil' + seuil + '_mask.nc'\n",
    "    intensfile1 = fdir + 'intens_GPCP-NCEPR1_interp_seuil' + seuil + '_mask.nc'\n",
    "    intensfile2 = fdir + 'intens_TRMM-NCEPR1_interp_seuil' + seuil + '_mask.nc'\n",
    "    intensfile3 = fdir + 'intens_NCEP-R1_seuil' + seuil + '_mask.nc'\n",
    "    intensfile4 = fdir + 'intens_NCEP-R2_seuil' + seuil + '_mask.nc'\n",
    "    intensfile5 = fdir + 'intens_MERRA-NCEPR1_interp_seuil' + seuil + '_mask.nc'\n",
    "    intensfile6 = fdir + 'intens_CFSR-NCEPR1_interp_seuil' + seuil + '_mask.nc'\n",
    "    intensfile7 = fdir + 'intens_ERAinterim-NCEPR1_interp_seuil' + seuil + '_mask.nc'\n",
    "    \n",
    "    fnwd1 = netcdf.netcdf_file(nwdfile1,'r')\n",
    "    fnwd2 = netcdf.netcdf_file(nwdfile2,'r')\n",
    "    fnwd3 = netcdf.netcdf_file(nwdfile3,'r')\n",
    "    fnwd4 = netcdf.netcdf_file(nwdfile4,'r')\n",
    "    fnwd5 = netcdf.netcdf_file(nwdfile5,'r')\n",
    "    fnwd6 = netcdf.netcdf_file(nwdfile6,'r')\n",
    "    fnwd7 = netcdf.netcdf_file(nwdfile7,'r')\n",
    "    fintens1 = netcdf.netcdf_file(intensfile1,'r')\n",
    "    fintens2 = netcdf.netcdf_file(intensfile2,'r')\n",
    "    fintens3 = netcdf.netcdf_file(intensfile3,'r')\n",
    "    fintens4 = netcdf.netcdf_file(intensfile4,'r')\n",
    "    fintens5 = netcdf.netcdf_file(intensfile5,'r')\n",
    "    fintens6 = netcdf.netcdf_file(intensfile6,'r')\n",
    "    fintens7 = netcdf.netcdf_file(intensfile7,'r')\n",
    "    \n",
    "    nwd1 = fnwd1.variables['nwd']\n",
    "    nwd2 = fnwd2.variables['nwd']\n",
    "    nwd3 = fnwd3.variables['nwd']\n",
    "    nwd4 = fnwd4.variables['nwd']\n",
    "    nwd5 = fnwd5.variables['nwd']\n",
    "    nwd6 = fnwd6.variables['nwd']\n",
    "    nwd7 = fnwd7.variables['nwd']\n",
    "    intens1 = fintens1.variables['intens']\n",
    "    intens2 = fintens2.variables['intens']\n",
    "    intens3 = fintens3.variables['intens']\n",
    "    intens4 = fintens4.variables['intens']\n",
    "    intens5 = fintens5.variables['intens']\n",
    "    intens6 = fintens6.variables['intens']\n",
    "    intens7 = fintens7.variables['intens']\n",
    "    \n",
    "    nwd1a=nwd1[:]\n",
    "    nwd2a=nwd2[:]\n",
    "    nwd3a=nwd3[:]\n",
    "    nwd4a=nwd4[:]\n",
    "    nwd5a=nwd5[:]\n",
    "    nwd6a=nwd6[:]\n",
    "    nwd7a=nwd7[:]\n",
    "    intens1a=intens1[:]\n",
    "    intens2a=intens2[:]\n",
    "    intens3a=intens3[:]\n",
    "    intens4a=intens4[:]\n",
    "    intens5a=intens5[:]\n",
    "    intens6a=intens6[:]\n",
    "    intens7a=intens7[:]\n",
    "    \n",
    "    mask=npy.equal(nwd1a,0.)\n",
    "    nwd1a_ma=npy.ma.array(nwd1a,mask=mask)\n",
    "    nwd2a_ma=npy.ma.array(nwd2a,mask=mask)\n",
    "    nwd3a_ma=npy.ma.array(nwd3a,mask=mask)\n",
    "    nwd4a_ma=npy.ma.array(nwd4a,mask=mask)\n",
    "    nwd5a_ma=npy.ma.array(nwd5a,mask=mask)\n",
    "    nwd6a_ma=npy.ma.array(nwd6a,mask=mask)\n",
    "    nwd7a_ma=npy.ma.array(nwd7a,mask=mask)\n",
    "    intens1a_ma=npy.ma.array(intens1a,mask=mask)\n",
    "    intens2a_ma=npy.ma.array(intens2a,mask=mask)\n",
    "    intens3a_ma=npy.ma.array(intens3a,mask=mask)\n",
    "    intens4a_ma=npy.ma.array(intens4a,mask=mask)\n",
    "    intens5a_ma=npy.ma.array(intens5a,mask=mask)\n",
    "    intens6a_ma=npy.ma.array(intens6a,mask=mask)\n",
    "    intens7a_ma=npy.ma.array(intens7a,mask=mask)\n",
    "    \n",
    "    totnwd1=npy.mean(npy.mean(nwd1a_ma[0],0),0)\n",
    "    totnwd2=npy.mean(npy.mean(nwd2a_ma[0],0),0)\n",
    "    totnwd3=npy.mean(npy.mean(nwd3a_ma[0],0),0)\n",
    "    totnwd4=npy.mean(npy.mean(nwd4a_ma[0],0),0)\n",
    "    totnwd5=npy.mean(npy.mean(nwd5a_ma[0],0),0)\n",
    "    totnwd6=npy.mean(npy.mean(nwd6a_ma[0],0),0)\n",
    "    totnwd7=npy.mean(npy.mean(nwd7a_ma[0],0),0)\n",
    "    totintens1=npy.mean(npy.mean(intens1a_ma[0],0),0)\n",
    "    totintens2=npy.mean(npy.mean(intens2a_ma[0],0),0)\n",
    "    totintens3=npy.mean(npy.mean(intens3a_ma[0],0),0)\n",
    "    totintens4=npy.mean(npy.mean(intens4a_ma[0],0),0)\n",
    "    totintens5=npy.mean(npy.mean(intens5a_ma[0],0),0)\n",
    "    totintens6=npy.mean(npy.mean(intens6a_ma[0],0),0)\n",
    "    totintens7=npy.mean(npy.mean(intens7a_ma[0],0),0)\n",
    "    \n",
    "    print \"Global mean of nwd for GPCP is %d.\" % totnwd1\n",
    "    print \"Global mean of nwd for TRMM is %d.\" % totnwd2\n",
    "    print \"Global mean of nwd for NCEP-R1 is %d.\" % totnwd3\n",
    "    print \"Global mean of nwd for NCEP-R2 is %d.\" % totnwd4\n",
    "    print \"Global mean of nwd for MERRA is %d.\" % totnwd5\n",
    "    print \"Global mean of nwd for CFSR is %d.\" % totnwd6\n",
    "    print \"Global mean of nwd for ERAinterim is %d.\" % totnwd7\n",
    "    print \"Global mean of intens for GPCP is %d.\",\"%.1f\" % totintens1\n",
    "    print \"Global mean of intens for TRMM is %d.\",\"%.1f\" % totintens2\n",
    "    print \"Global mean of intens for NCEP-R1 is %d.\",\"%.1f\" % totintens3\n",
    "    print \"Global mean of intens for NCEP-R2 is %d.\",\"%.1f\" % totintens4\n",
    "    print \"Global mean of intens for MERRA is %d.\",\"%.1f\" % totintens5\n",
    "    print \"Global mean of intens for CFSR is %d.\",\"%.1f\" % totintens6\n",
    "    print \"Global mean of intens for ERAinterim is %d.\",\"%.1f\" % totintens7\n",
    "\n",
    "\n",
    "\n"
   ]
  },
  {
   "cell_type": "code",
   "execution_count": 9,
   "metadata": {
    "collapsed": false
   },
   "outputs": [
    {
     "name": "stdout",
     "output_type": "stream",
     "text": [
      "Global mean of nwd for GPCP is 50.\n",
      "Global mean of nwd for TRMM is 42.\n",
      "Global mean of nwd for NCEP-R1 is 81.\n",
      "Global mean of nwd for NCEP-R2 is 51.\n",
      "Global mean of nwd for MERRA is 98.\n",
      "Global mean of nwd for CFSR is 77.\n",
      "Global mean of nwd for ERAinterim is 93.\n",
      "Global mean of intens for GPCP is %d. 5.3\n",
      "Global mean of intens for TRMM is %d. 6.3\n",
      "Global mean of intens for NCEP-R1 is %d. 3.6\n",
      "Global mean of intens for NCEP-R2 is %d. 7.1\n",
      "Global mean of intens for MERRA is %d. 3.1\n",
      "Global mean of intens for CFSR is %d. 4.5\n",
      "Global mean of intens for ERAinterim is %d. 3.4\n"
     ]
    }
   ],
   "source": [
    "tot_nwd_intens('0')"
   ]
  },
  {
   "cell_type": "code",
   "execution_count": 11,
   "metadata": {
    "collapsed": false
   },
   "outputs": [
    {
     "name": "stdout",
     "output_type": "stream",
     "text": [
      "Global mean of nwd for GPCP is 48.\n",
      "Global mean of nwd for TRMM is 42.\n",
      "Global mean of nwd for NCEP-R1 is 68.\n",
      "Global mean of nwd for NCEP-R2 is 49.\n",
      "Global mean of nwd for MERRA is 89.\n",
      "Global mean of nwd for CFSR is 77.\n",
      "Global mean of nwd for ERAinterim is 88.\n",
      "Global mean of intens for GPCP is %d. 5.4\n",
      "Global mean of intens for TRMM is %d. 6.3\n",
      "Global mean of intens for NCEP-R1 is %d. 4.2\n",
      "Global mean of intens for NCEP-R2 is %d. 7.3\n",
      "Global mean of intens for MERRA is %d. 3.3\n",
      "Global mean of intens for CFSR is %d. 4.5\n",
      "Global mean of intens for ERAinterim is %d. 3.6\n"
     ]
    }
   ],
   "source": [
    "tot_nwd_intens('001')"
   ]
  },
  {
   "cell_type": "code",
   "execution_count": 13,
   "metadata": {
    "collapsed": false
   },
   "outputs": [
    {
     "name": "stdout",
     "output_type": "stream",
     "text": [
      "Global mean of nwd for GPCP is 43.\n",
      "Global mean of nwd for TRMM is 37.\n",
      "Global mean of nwd for NCEP-R1 is 61.\n",
      "Global mean of nwd for NCEP-R2 is 43.\n",
      "Global mean of nwd for MERRA is 81.\n",
      "Global mean of nwd for CFSR is 71.\n",
      "Global mean of nwd for ERAinterim is 77.\n",
      "Global mean of intens for GPCP is %d. 6.1\n",
      "Global mean of intens for TRMM is %d. 7.0\n",
      "Global mean of intens for NCEP-R1 is %d. 4.6\n",
      "Global mean of intens for NCEP-R2 is %d. 8.1\n",
      "Global mean of intens for MERRA is %d. 3.6\n",
      "Global mean of intens for CFSR is %d. 4.9\n",
      "Global mean of intens for ERAinterim is %d. 4.0\n"
     ]
    }
   ],
   "source": [
    "tot_nwd_intens('01')"
   ]
  },
  {
   "cell_type": "code",
   "execution_count": 14,
   "metadata": {
    "collapsed": false
   },
   "outputs": [
    {
     "name": "stdout",
     "output_type": "stream",
     "text": [
      "Global mean of nwd for GPCP is 36.\n",
      "Global mean of nwd for TRMM is 29.\n",
      "Global mean of nwd for NCEP-R1 is 50.\n",
      "Global mean of nwd for NCEP-R2 is 37.\n",
      "Global mean of nwd for MERRA is 61.\n",
      "Global mean of nwd for CFSR is 57.\n",
      "Global mean of nwd for ERAinterim is 55.\n",
      "Global mean of intens for GPCP is %d. 7.3\n",
      "Global mean of intens for TRMM is %d. 8.9\n",
      "Global mean of intens for NCEP-R1 is %d. 5.6\n",
      "Global mean of intens for NCEP-R2 is %d. 9.5\n",
      "Global mean of intens for MERRA is %d. 4.7\n",
      "Global mean of intens for CFSR is %d. 6.0\n",
      "Global mean of intens for ERAinterim is %d. 5.4\n"
     ]
    }
   ],
   "source": [
    "tot_nwd_intens('05')"
   ]
  },
  {
   "cell_type": "code",
   "execution_count": 15,
   "metadata": {
    "collapsed": false
   },
   "outputs": [
    {
     "name": "stdout",
     "output_type": "stream",
     "text": [
      "Global mean of nwd for GPCP is 32.\n",
      "Global mean of nwd for TRMM is 24.\n",
      "Global mean of nwd for NCEP-R1 is 44.\n",
      "Global mean of nwd for NCEP-R2 is 32.\n",
      "Global mean of nwd for MERRA is 45.\n",
      "Global mean of nwd for CFSR is 46.\n",
      "Global mean of nwd for ERAinterim is 43.\n",
      "Global mean of intens for GPCP is %d. 8.4\n",
      "Global mean of intens for TRMM is %d. 10.8\n",
      "Global mean of intens for NCEP-R1 is %d. 6.8\n",
      "Global mean of intens for NCEP-R2 is %d. 10.8\n",
      "Global mean of intens for MERRA is %d. 6.2\n",
      "Global mean of intens for CFSR is %d. 7.4\n",
      "Global mean of intens for ERAinterim is %d. 7.6\n"
     ]
    }
   ],
   "source": [
    "tot_nwd_intens('1')"
   ]
  },
  {
   "cell_type": "code",
   "execution_count": null,
   "metadata": {
    "collapsed": true
   },
   "outputs": [],
   "source": []
  },
  {
   "cell_type": "code",
   "execution_count": null,
   "metadata": {
    "collapsed": true
   },
   "outputs": [],
   "source": []
  }
 ],
 "metadata": {
  "kernelspec": {
   "display_name": "Python [Root]",
   "language": "python",
   "name": "Python [Root]"
  },
  "language_info": {
   "codemirror_mode": {
    "name": "ipython",
    "version": 2
   },
   "file_extension": ".py",
   "mimetype": "text/x-python",
   "name": "python",
   "nbconvert_exporter": "python",
   "pygments_lexer": "ipython2",
   "version": "2.7.11"
  }
 },
 "nbformat": 4,
 "nbformat_minor": 0
}
